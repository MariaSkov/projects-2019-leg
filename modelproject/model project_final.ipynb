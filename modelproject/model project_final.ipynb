{
 "cells": [
  {
   "cell_type": "markdown",
   "metadata": {},
   "source": [
    "# Model Project of the Optimal Number of Children for Household#"
   ]
  },
  {
   "cell_type": "markdown",
   "metadata": {},
   "source": [
    "**Importing libraries**"
   ]
  },
  {
   "cell_type": "markdown",
   "metadata": {},
   "source": [
    "Paste pip install git+https://github.com/elben10/pydst in the Terminal before you run the code, in order to have pydst Package."
   ]
  },
  {
   "cell_type": "code",
   "execution_count": 28,
   "metadata": {},
   "outputs": [],
   "source": [
    "import numpy as np\n",
    "import scipy as sp\n",
    "from scipy import linalg\n",
    "from scipy import optimize\n",
    "from scipy.optimize import minimize_scalar\n",
    "from scipy import interpolate\n",
    "import sympy as sm\n",
    "import math as ma\n",
    "\n",
    "%matplotlib inline\n",
    "import matplotlib.pyplot as plt\n",
    "from matplotlib import cm\n",
    "from mpl_toolkits.mplot3d import Axes3D\n",
    "\n",
    "from ipywidgets import interact, interactive, fixed, interact_manual\n",
    "import ipywidgets as widgets\n",
    "import os\n",
    "import pydst\n",
    "import pandas as pd\n",
    "import numpy as np\n",
    "dst = pydst.Dst(lang='da')"
   ]
  },
  {
   "cell_type": "markdown",
   "metadata": {},
   "source": [
    "## 1. Model description ##"
   ]
  },
  {
   "cell_type": "markdown",
   "metadata": {},
   "source": [
    "In this project, we try to find the optimal number of children for household by combining utility function and budget constraint. In order to do so, we firstly study and visualize the utility function. The second, we find the general expression of the optimal number of children. Then we set up parameters to get the nummeral result of b and compare it with the result obtain from the general expression. Finally, we extend the model with the cost of having children.\n",
    "\n",
    "**The model is:**"
   ]
  },
  {
   "cell_type": "markdown",
   "metadata": {},
   "source": [
    "<div style=\"font-size: 16px\">\n",
    "\n",
    "$ max\\,U(c, n)= {\\gamma}\\,\\log\\,n + (1-{\\gamma})\\,\\log\\,c $\n",
    "\n",
    "$\\text{s.t.}\\,\\,\\,\\,\\,\\,\\,\\,\\,\\,\\,\\,\\,\\,\\,\\,\\,\\,\\,\\,\\,c\\,=\\,(1-{\\tau}{\\phi}b)\\,y\\,-\\,{\\rho}b$"
   ]
  },
  {
   "cell_type": "markdown",
   "metadata": {},
   "source": [
    "**where**\n",
    "\n",
    "- c is the household consumption level\n",
    "- n is the number of surviving children of the household\n",
    "- ${\\gamma}$ is the preference parameter between consumption and children. Thus, $0 < {\\gamma} < 1$.\n",
    "- y is the total income of the household\n",
    "- ${\\tau}$ is the share of income dedicated to grow children (per surviving child). Thus, $0 < {\\tau} < 1$.\n",
    "- ${\\phi}$ is ratio of survival children to the total fertility. Thereby, $n\\,=\\,{\\phi}\\,b$. Thus, $0 < {\\phi} < 1$.\n",
    "- ${\\rho}$ is cost of having one child born regardless of life expectancy."
   ]
  },
  {
   "cell_type": "markdown",
   "metadata": {},
   "source": [
    "Galor assumes ${\\rho} = 0$. This leads to the conclusion that optimal number of the surviving children of the household is not affected by mortality. Following explanations and codes will prove the conclusion of the model by applying the algorithms from this course."
   ]
  },
  {
   "cell_type": "markdown",
   "metadata": {},
   "source": [
    "## 2. Analyze the utility function ##"
   ]
  },
  {
   "cell_type": "markdown",
   "metadata": {},
   "source": [
    "###  a. Visualize the utility function in a 3D form### "
   ]
  },
  {
   "cell_type": "markdown",
   "metadata": {},
   "source": [
    "We will start with the visulaization of the utility function in the form of 3D. The exogenous variables of the funtion is ${n}$ and ${c}$. Each of these variables will be the x-axis and y-axis for the 3D graph, and z-axis will show the amount of utility. In order to show the effect which ${\\gamma}$ has as an endogenous variable of the function, we will use Slider widget. By moving the dot on the scroll bar located upon the 3D graph, you can see how the utility function is changed by ${\\gamma}$."
   ]
  },
  {
   "cell_type": "code",
   "execution_count": 29,
   "metadata": {},
   "outputs": [
    {
     "data": {
      "application/vnd.jupyter.widget-view+json": {
       "model_id": "842a65f49e114be1b9de33051619c915",
       "version_major": 2,
       "version_minor": 0
      },
      "text/plain": [
       "interactive(children=(FloatSlider(value=0.74, description='${\\\\gamma}$:', max=1.0, readout_format='d', step=0.…"
      ]
     },
     "metadata": {},
     "output_type": "display_data"
    }
   ],
   "source": [
    "# Defining all symbols:\n",
    "c = sm.symbols('c')\n",
    "n = sm.symbols('n')\n",
    "y = sm.symbols('y')\n",
    "b = sm.symbols('b')\n",
    "gamma = sm.symbols('gamma')\n",
    "tau = sm.symbols ('tau')\n",
    "phi = sm.symbols ('phi')\n",
    "\n",
    "# Setting up the basic for to make the slider of gamma:\n",
    "def g(gamma):\n",
    "    \n",
    "# Defining function:\n",
    "    u = gamma*sm.ln(n)+(1-gamma)*sm.ln(c)\n",
    "    _u = sm.lambdify((n,c),u)\n",
    "\n",
    "# Plotting the graph    \n",
    "# a. grids\n",
    "    n_vec = np.linspace(1,10,10)\n",
    "    c_vec = np.linspace(1,100000,500)\n",
    "    n_grid,c_grid = np.meshgrid(n_vec,c_vec,indexing='ij')\n",
    "    f_grid = _u(n_grid,c_grid)\n",
    "\n",
    "# b. main\n",
    "    fig = plt.figure()\n",
    "    ax = fig.add_subplot(1,1,1,projection='3d')\n",
    "    cs = ax.plot_surface(n_grid,c_grid,f_grid,cmap=cm.jet)\n",
    "\n",
    "# c. add labels\n",
    "    ax.set_xlabel('$n$')\n",
    "    ax.set_ylabel('$c$')\n",
    "    ax.set_zlabel('$u$')\n",
    "\n",
    "# d. invert and fix xaxis\n",
    "    ax.invert_xaxis()\n",
    "    plt.xlim([0,10])\n",
    "\n",
    "\n",
    "# e. remove background\n",
    "    ax.xaxis.pane.fill = False\n",
    "    ax.yaxis.pane.fill = False\n",
    "    ax.zaxis.pane.fill = False\n",
    "\n",
    "# f. add colorbar\n",
    "    fig.colorbar(cs);\n",
    "    \n",
    "# e. title and size\n",
    "    plt.title(\"Utility function of the household \\n with regard to the consumption \\n and the number of surviving children\", fontsize=15)\n",
    "    plt.figure(figsize=(1000,1000))\n",
    "    \n",
    "# Finishing the codes for the slider:\n",
    "slider = widgets.FloatSlider(\n",
    "    value = 0.5,\n",
    "    min = 0,\n",
    "    max = 1,\n",
    "    step = 0.01,\n",
    "    description = '${\\gamma}$ :',\n",
    "    disabled = False,\n",
    "    continuous_update = True,\n",
    "    orientation = 'horizontal',\n",
    "    readout = True,\n",
    "    readout_format = 'd'\n",
    ")\n",
    "    \n",
    "\n",
    "interact(g, gamma= slider);\n",
    "\n"
   ]
  },
  {
   "cell_type": "markdown",
   "metadata": {},
   "source": [
    "###  b. Visualize the utility function in a 2D form### "
   ]
  },
  {
   "cell_type": "markdown",
   "metadata": {},
   "source": [
    "In order to better show how the utility changes with regard to the exogenous variables ${n}$, ${c}$, we will also plot the function on the 2D graph. Each of the graph lines shown on the graph below has the same utility. Also, by changing the value of gamma with slider, you can see the overall utility function. Please refer to the color bar to check how much utility is allocated to each of the graphs."
   ]
  },
  {
   "cell_type": "code",
   "execution_count": 30,
   "metadata": {},
   "outputs": [
    {
     "data": {
      "application/vnd.jupyter.widget-view+json": {
       "model_id": "72acb7c1e9044319a0b283f71c7adbf6",
       "version_major": 2,
       "version_minor": 0
      },
      "text/plain": [
       "interactive(children=(FloatSlider(value=0.74, description='${\\\\gamma}$:', max=1.0, readout_format='d', step=0.…"
      ]
     },
     "metadata": {},
     "output_type": "display_data"
    }
   ],
   "source": [
    "# Setting up the basic for to make the slider of gamma:\n",
    "def g(gamma):\n",
    "# Defining function:    \n",
    "    u = gamma*sm.ln(n)+(1-gamma)*sm.ln(c)\n",
    "    _u = sm.lambdify((n,c),u)\n",
    "#Plotting the graph\n",
    "# a. grids\n",
    "    n_vec = np.linspace(1,10000,10)\n",
    "    c_vec = np.linspace(1,1000000,500)\n",
    "    n_grid,c_grid = np.meshgrid(n_vec,c_vec,indexing='ij')\n",
    "    f_grid = _u(n_grid,c_grid)\n",
    "\n",
    "# b. Adding info on axis\n",
    "    fig = plt.figure()\n",
    "    ax = fig.add_subplot(1,1,1)\n",
    "    levels = [0,1,2,3,4,5,6,7,8,9,10,11,12]\n",
    "    \n",
    "# c. Main\n",
    "    cs = ax.contour(n_grid,c_grid,f_grid,levels=levels,cmap=cm.jet)\n",
    "    \n",
    "# d. add labels\n",
    "    ax.set_xlabel('$n$')\n",
    "    ax.set_ylabel('$c$')\n",
    "\n",
    "# e. add color bar\n",
    "    clb = fig.colorbar(cs)\n",
    "    clb.ax.set_title('u')\n",
    "    \n",
    "# f. title and size\n",
    "    plt.title(\"Utility function of the household \\n with regard to the consumption \\n and the number of surviving children\", fontsize=15)\n",
    "    plt.figure(figsize=(1000,1000))\n",
    "\n",
    "# Finishing the codes for the slider:\n",
    "    slider = widgets.FloatSlider(\n",
    "    value = 0.5,\n",
    "    min = 0,\n",
    "    max = 1,\n",
    "    step = 0.01,\n",
    "    description = '${\\gamma}$ :',\n",
    "    disabled = False,\n",
    "    continuous_update = True,\n",
    "    orientation = 'horizontal',\n",
    "    readout = True,\n",
    "    readout_format = 'd'\n",
    ")\n",
    "    \n",
    "\n",
    "interact(g, gamma= slider);"
   ]
  },
  {
   "cell_type": "markdown",
   "metadata": {},
   "source": [
    "### c. Numerical Calculations of the utility function with the given ${\\gamma}$ values:  ###"
   ]
  },
  {
   "cell_type": "markdown",
   "metadata": {},
   "source": [
    "In order to show how the changes of the number of children affect the overall utility for a given level of consumption, we print multiple evaluations of the utility function."
   ]
  },
  {
   "cell_type": "code",
   "execution_count": 31,
   "metadata": {},
   "outputs": [
    {
     "name": "stdout",
     "output_type": "stream",
     "text": [
      "n = 1.000, c = 10000.000 -> u = 4.605\n",
      "n = 2.000, c = 10000.000 -> u = 4.952\n",
      "n = 3.000, c = 10000.000 -> u = 5.154\n",
      "n = 4.000, c = 10000.000 -> u = 5.298\n",
      "n = 5.000, c = 10000.000 -> u = 5.410\n",
      "n = 7.000, c = 10000.000 -> u = 5.578\n",
      "n = 8.000, c = 10000.000 -> u = 5.645\n",
      "n = 9.000, c = 10000.000 -> u = 5.704\n",
      "n = 10.000, c = 10000.000 -> u = 5.756\n"
     ]
    }
   ],
   "source": [
    "def u_func(n,c,gamma = 0.50): #define the utility function with gamma = 0.5 \n",
    "    return gamma * np.log (n) + gamma * np.log (c)\n",
    "\n",
    "n_list = [1,2,3,4,5,7,8,9,10] # The number of children ranges from 1 to 10.\n",
    "c = 10000 # The consumption level is 10000\n",
    "\n",
    "for n in n_list: # loop through each element in n_list\n",
    "    u = u_func(n, c, gamma = 0.5)\n",
    "    print(f'n = {n:.3f}, c = {c:.3f} -> u = {u:.3f}')"
   ]
  },
  {
   "cell_type": "markdown",
   "metadata": {},
   "source": [
    "## 3. Solve the utility function subject to the budget constraint ##"
   ]
  },
  {
   "cell_type": "markdown",
   "metadata": {},
   "source": [
    "### a. Solve the utility function with the budget constraint to get the optimal value of b ###"
   ]
  },
  {
   "cell_type": "markdown",
   "metadata": {},
   "source": [
    "In this section we maximize the utility function under the budget constraint. By substituting exogenous variables of the utility function regarding the variable b, we will get the optimal value of b under the maximized utility. This will lead to the constitution of the basis of the conclusion of the theory."
   ]
  },
  {
   "cell_type": "code",
   "execution_count": 32,
   "metadata": {},
   "outputs": [
    {
     "name": "stdout",
     "output_type": "stream",
     "text": [
      "gamma*log(b*phi) + (-gamma + 1)*log(y*(-b*phi*tau + 1))\n",
      "[gamma/(phi*tau)]\n"
     ]
    }
   ],
   "source": [
    "# define all symbols\n",
    "c = sm.symbols('c')\n",
    "n = sm.symbols('n')\n",
    "y = sm.symbols('y')\n",
    "b = sm.symbols('b')\n",
    "gamma = sm.symbols('gamma')\n",
    "tau = sm.symbols ('tau')\n",
    "phi = sm.symbols ('phi')\n",
    "\n",
    "# define the utility function\n",
    "objective = (1-gamma) * sm.ln(c) + gamma * sm.ln(phi*b)\n",
    "\n",
    "# define the budget constraint\n",
    "budget_constraint = sm.Eq((c/(1-(tau*phi*b))), y)\n",
    "\n",
    "# islate c in the budget constraint\n",
    "c_from_con = sm.solve(budget_constraint, c)\n",
    "c_from_con\n",
    "\n",
    "# substitute c as a function of b \n",
    "objective_subs = objective.subs(c, c_from_con[0])\n",
    "objective_subs\n",
    "\n",
    "# take the derivative of the function from above \n",
    "foc = sm.diff(objective_subs, b)\n",
    "\n",
    "# solve the FOC \n",
    "solve_this = sm.Eq(foc,0)\n",
    "\n",
    "# find the general expression of the optimal value of b\n",
    "final_b = sm.solve(solve_this,b)\n",
    "print(objective_subs)\n",
    "print(final_b)"
   ]
  },
  {
   "cell_type": "markdown",
   "metadata": {},
   "source": [
    "### b. Analysis on the conclusion of the simplified model of Galor ### "
   ]
  },
  {
   "cell_type": "markdown",
   "metadata": {},
   "source": [
    "As it is shown above, at the maximized utility level, ${b}$ $=$ $\\frac {\\gamma} {{\\phi}{\\tau}}$. In other words, ${n} = {\\phi}{b} =\\frac {\\gamma} {\\tau}$. So as the model is saying, the optimal number of the surviving children is not affected by the mortality rate. In order to see how exactly the ${n}$ can be changed as the endogenous variable changes, we will take a look at the graph below. For better understanding, the graph is 2D with ${\\tau}$ as x-axis and ${n}$ as y-axis. By changing ${\\gamma}$ with the slider, you can see how the overall value of ${n}$ can be changed.  "
   ]
  },
  {
   "cell_type": "code",
   "execution_count": 33,
   "metadata": {},
   "outputs": [
    {
     "data": {
      "application/vnd.jupyter.widget-view+json": {
       "model_id": "47d02e435a0d456e97b6b1593f9da403",
       "version_major": 2,
       "version_minor": 0
      },
      "text/plain": [
       "interactive(children=(FloatSlider(value=0.5, description='${\\\\gamma}$:', max=1.0, readout_format='d', step=0.0…"
      ]
     },
     "metadata": {},
     "output_type": "display_data"
    }
   ],
   "source": [
    "dst = pydst.Dst(lang='da')\n",
    "\n",
    "# Set up for gamma slider\n",
    "def u(gamma):\n",
    "    \n",
    "#main\n",
    "    x = np.linspace(0.1,1,100)\n",
    "    u = gamma/x\n",
    "    fig = plt.figure()\n",
    "    plt.plot(x, u)\n",
    "\n",
    "# Label work        \n",
    "    plt.ylim([0,5])\n",
    "    ax = fig.add_subplot(1,1,1)\n",
    "    ax.set_xlabel('$tau$')\n",
    "    ax.set_ylabel('$n$')\n",
    "\n",
    "# title and size\n",
    "    plt.title(\"Optimal number of the surviving children \\n with regard to gamma and tau \", fontsize=15)\n",
    "    plt.figure(figsize=(1000,1000))\n",
    "\n",
    "# Slider code sum up\n",
    "slider = widgets.FloatSlider(\n",
    "    value = 0.5,\n",
    "    min = 0,\n",
    "    max = 1,\n",
    "    step = 0.01,\n",
    "    description = '${\\gamma}$:',\n",
    "    disabled = False,\n",
    "    continuous_update = True,\n",
    "    orientation = 'horizontal',\n",
    "    readout = True,\n",
    "    readout_format = 'd'\n",
    ")\n",
    "    \n",
    "\n",
    "interact(u, gamma = slider);"
   ]
  },
  {
   "cell_type": "markdown",
   "metadata": {},
   "source": [
    "As the ${\\gamma}$ increases the overall graph shifts upwards, meaning ${n}$ increases. Also, as ${\\tau}$ increases, ${n}$ decreases. The reason is that ${\\gamma}$ indicates the preference of having children over consumption, while ${\\tau}$ shows the share of the income dedicated to growing up a child."
   ]
  },
  {
   "cell_type": "markdown",
   "metadata": {},
   "source": [
    "### c. Find the optimal value of b for given value of parameters using the optimize method directly ###"
   ]
  },
  {
   "cell_type": "markdown",
   "metadata": {},
   "source": [
    "We give some numerical values to the parameters in order to prove the process done above is numerically correct."
   ]
  },
  {
   "cell_type": "code",
   "execution_count": 34,
   "metadata": {},
   "outputs": [
    {
     "data": {
      "text/plain": [
       "     fun: -2.6292159808041085\n",
       " message: 'Solution found.'\n",
       "    nfev: 12\n",
       "  status: 0\n",
       " success: True\n",
       "       x: 4.999998342740495"
      ]
     },
     "execution_count": 34,
     "metadata": {},
     "output_type": "execute_result"
    }
   ],
   "source": [
    "# redefine the utility function without c\n",
    "utility_func = sm.lambdify((b, c, gamma, phi, tau, y), objective_subs)\n",
    "\n",
    "# set up numeral value for the parameters\n",
    "gamma = 0.8\n",
    "tau = 0.2\n",
    "phi = 0.8 \n",
    "y = 10000\n",
    "\n",
    "#grids\n",
    "c_vec = np.empty(1000)\n",
    "b_vec = np.linspace(1, 10, 10)\n",
    "\n",
    "#solve for each b in grid\n",
    "for b in enumerate(b_vec):\n",
    "    obj = lambda b: -utility_func(b, c, gamma, phi, tau, y)\n",
    "    b0 = 1\n",
    "\n",
    "# find the optimal value of b\n",
    "result = optimize.minimize_scalar(obj,b0, method='bounded',bounds=[0,10])\n",
    "   \n",
    "result"
   ]
  },
  {
   "cell_type": "code",
   "execution_count": 35,
   "metadata": {},
   "outputs": [
    {
     "data": {
      "text/plain": [
       "4.999999999999999"
      ]
     },
     "execution_count": 35,
     "metadata": {},
     "output_type": "execute_result"
    }
   ],
   "source": [
    "# make use of the general expression b to calculate b subject to the set up of the parameters\n",
    "\n",
    "# repeat the set-up of the parameters\n",
    "gamma = 0.8\n",
    "tau = 0.2\n",
    "phi = 0.8 \n",
    "\n",
    "# calculate b using a function of gamma, phi and tau\n",
    "def b_func(gamma, phi, tau):\n",
    "    b_optimal = gamma/(phi*tau)\n",
    "    return b_optimal\n",
    "\n",
    "b_func(gamma, tau, phi)"
   ]
  },
  {
   "cell_type": "markdown",
   "metadata": {},
   "source": [
    "*The value of the b is the same when it is obtained from the numerical optimization and when it is from the equation on b generated from the utility maximization. This indicates the overall analysis on the model above is less likely to be wrong.*"
   ]
  },
  {
   "cell_type": "markdown",
   "metadata": {},
   "source": [
    "## 4. Extension of the model ##"
   ]
  },
  {
   "cell_type": "markdown",
   "metadata": {},
   "source": [
    "For the extension of the model we will consider not only the opportunity cost of having children, but also, the cost of giving a child birth. Galor assumes ${\\rho} = 0$. In the extension we relax Galor's assumption as ${\\rho} > 0$."
   ]
  },
  {
   "cell_type": "code",
   "execution_count": 36,
   "metadata": {},
   "outputs": [
    {
     "name": "stdout",
     "output_type": "stream",
     "text": [
      "gamma*log(b*phi) + (-gamma + 1)*log(-b*phi*tau*y - b*rho + y)\n",
      "[gamma*y/(phi*tau*y + rho)]\n"
     ]
    }
   ],
   "source": [
    "# define all symbols\n",
    "c = sm.symbols('c')\n",
    "n = sm.symbols('n')\n",
    "y = sm.symbols('y')\n",
    "b = sm.symbols('b')\n",
    "gamma = sm.symbols('gamma')\n",
    "tau = sm.symbols('tau')\n",
    "phi = sm.symbols('phi')\n",
    "rho = sm.symbols('rho')\n",
    "\n",
    "# define the utility function\n",
    "objective = (1-gamma) * sm.ln(c) + gamma * sm.ln(phi*b)\n",
    "\n",
    "# define the budget constraint\n",
    "budget_constraint = sm.Eq(((c+(rho*b))/(1-(tau*phi*b))), y)\n",
    "\n",
    "# islate c in the budget constraint\n",
    "c_from_con = sm.solve(budget_constraint, c)\n",
    "c_from_con\n",
    "\n",
    "# substitute c as a function of b \n",
    "objective_subs = objective.subs(c, c_from_con[0])\n",
    "objective_subs\n",
    "\n",
    "# take the derivative of the function from above \n",
    "foc = sm.diff(objective_subs, b)\n",
    "\n",
    "# solve the FOC \n",
    "solve_this= sm.Eq(foc,0)\n",
    "\n",
    "# find the general expression of the optimal value of b\n",
    "final_b= sm.solve(solve_this,b)\n",
    "print(objective_subs)\n",
    "print(final_b)"
   ]
  },
  {
   "cell_type": "markdown",
   "metadata": {},
   "source": [
    "### Find the optimal value of b for given value of parameters considering the consumption of children ###"
   ]
  },
  {
   "cell_type": "code",
   "execution_count": 37,
   "metadata": {},
   "outputs": [
    {
     "data": {
      "text/plain": [
       "3.9999999999999996"
      ]
     },
     "execution_count": 37,
     "metadata": {},
     "output_type": "execute_result"
    }
   ],
   "source": [
    "gamma=0.8\n",
    "tau=0.2\n",
    "phi=0.8 \n",
    "rho=400\n",
    "y=10000\n",
    "\n",
    "# calculate b using a function of gamma, phi and tau\n",
    "def b_func(gamma, phi, tau,rho):\n",
    "    b_optimal = gamma*y/(phi*tau*y+rho)\n",
    "    return b_optimal\n",
    "\n",
    "b_func(gamma, tau, phi,rho)"
   ]
  },
  {
   "cell_type": "markdown",
   "metadata": {},
   "source": [
    "## 5. Conclusions ##"
   ]
  },
  {
   "cell_type": "markdown",
   "metadata": {},
   "source": [
    "The optimal number of children per household is independent to the household income and mortality index, under the simplified model of Galor. In this case the number surviving children per household is rather affected by the share of income dedicated to growing up a child, and the preference on the children. The extension model contains the cost of giving a child a birth as a positive value, so this leads to income level and mortality index affecting the decision on fertility."
   ]
  }
 ],
 "metadata": {
  "kernelspec": {
   "display_name": "Python 3",
   "language": "python",
   "name": "python3"
  },
  "language_info": {
   "codemirror_mode": {
    "name": "ipython",
    "version": 3
   },
   "file_extension": ".py",
   "mimetype": "text/x-python",
   "name": "python",
   "nbconvert_exporter": "python",
   "pygments_lexer": "ipython3",
   "version": "3.7.1"
  }
 },
 "nbformat": 4,
 "nbformat_minor": 2
}
